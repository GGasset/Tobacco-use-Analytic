{
 "cells": [
  {
   "cell_type": "code",
   "execution_count": 2,
   "metadata": {},
   "outputs": [],
   "source": [
    "import pandas as pd"
   ]
  },
  {
   "cell_type": "code",
   "execution_count": 3,
   "metadata": {},
   "outputs": [
    {
     "data": {
      "text/html": [
       "<div>\n",
       "<style scoped>\n",
       "    .dataframe tbody tr th:only-of-type {\n",
       "        vertical-align: middle;\n",
       "    }\n",
       "\n",
       "    .dataframe tbody tr th {\n",
       "        vertical-align: top;\n",
       "    }\n",
       "\n",
       "    .dataframe thead th {\n",
       "        text-align: right;\n",
       "    }\n",
       "</style>\n",
       "<table border=\"1\" class=\"dataframe\">\n",
       "  <thead>\n",
       "    <tr style=\"text-align: right;\">\n",
       "      <th></th>\n",
       "      <th>IndicatorCode</th>\n",
       "      <th>Indicator</th>\n",
       "      <th>ValueType</th>\n",
       "      <th>ParentLocationCode</th>\n",
       "      <th>ParentLocation</th>\n",
       "      <th>Location type</th>\n",
       "      <th>SpatialDimValueCode</th>\n",
       "      <th>Location</th>\n",
       "      <th>Period type</th>\n",
       "      <th>Period</th>\n",
       "      <th>...</th>\n",
       "      <th>FactValueUoM</th>\n",
       "      <th>FactValueNumericLowPrefix</th>\n",
       "      <th>FactValueNumericLow</th>\n",
       "      <th>FactValueNumericHighPrefix</th>\n",
       "      <th>FactValueNumericHigh</th>\n",
       "      <th>Value</th>\n",
       "      <th>FactValueTranslationID</th>\n",
       "      <th>FactComments</th>\n",
       "      <th>Language</th>\n",
       "      <th>DateModified</th>\n",
       "    </tr>\n",
       "  </thead>\n",
       "  <tbody>\n",
       "    <tr>\n",
       "      <th>0</th>\n",
       "      <td>M_Est_tob_curr_std</td>\n",
       "      <td>Estimate of current tobacco use prevalence (%)...</td>\n",
       "      <td>numeric</td>\n",
       "      <td>SEAR</td>\n",
       "      <td>South-East Asia</td>\n",
       "      <td>Country</td>\n",
       "      <td>PRK</td>\n",
       "      <td>Democratic People's Republic of Korea</td>\n",
       "      <td>Year</td>\n",
       "      <td>2025</td>\n",
       "      <td>...</td>\n",
       "      <td>NaN</td>\n",
       "      <td>NaN</td>\n",
       "      <td>NaN</td>\n",
       "      <td>NaN</td>\n",
       "      <td>NaN</td>\n",
       "      <td>0.0</td>\n",
       "      <td>NaN</td>\n",
       "      <td>Projected from surveys completed prior to 2020...</td>\n",
       "      <td>EN</td>\n",
       "      <td>2022-01-16T23:00:00.000Z</td>\n",
       "    </tr>\n",
       "  </tbody>\n",
       "</table>\n",
       "<p>1 rows × 34 columns</p>\n",
       "</div>"
      ],
      "text/plain": [
       "        IndicatorCode                                          Indicator  \\\n",
       "0  M_Est_tob_curr_std  Estimate of current tobacco use prevalence (%)...   \n",
       "\n",
       "  ValueType ParentLocationCode   ParentLocation Location type  \\\n",
       "0   numeric               SEAR  South-East Asia       Country   \n",
       "\n",
       "  SpatialDimValueCode                               Location Period type  \\\n",
       "0                 PRK  Democratic People's Republic of Korea        Year   \n",
       "\n",
       "   Period  ...  FactValueUoM FactValueNumericLowPrefix FactValueNumericLow  \\\n",
       "0    2025  ...           NaN                       NaN                 NaN   \n",
       "\n",
       "  FactValueNumericHighPrefix  FactValueNumericHigh  Value  \\\n",
       "0                        NaN                   NaN    0.0   \n",
       "\n",
       "   FactValueTranslationID                                       FactComments  \\\n",
       "0                     NaN  Projected from surveys completed prior to 2020...   \n",
       "\n",
       "   Language              DateModified  \n",
       "0        EN  2022-01-16T23:00:00.000Z  \n",
       "\n",
       "[1 rows x 34 columns]"
      ]
     },
     "execution_count": 3,
     "metadata": {},
     "output_type": "execute_result"
    }
   ],
   "source": [
    "# Get data from WHO: https://www.who.int/data/gho/data/indicators/indicator-details/GHO/gho-tobacco-control-monitor-current-tobaccouse-tobaccosmoking-cigarrettesmoking-agestd-tobagestdcurr\n",
    "tobacco_use = pd.read_csv('./TobaccoUseData.csv')\n",
    "tobacco_use.head(1)"
   ]
  },
  {
   "cell_type": "code",
   "execution_count": 4,
   "metadata": {},
   "outputs": [
    {
     "data": {
      "text/plain": [
       "Index(['IndicatorCode', 'Indicator', 'ValueType', 'ParentLocationCode',\n",
       "       'ParentLocation', 'Location type', 'SpatialDimValueCode', 'Location',\n",
       "       'Period type', 'Period', 'IsLatestYear', 'Dim1 type', 'Dim1',\n",
       "       'Dim1ValueCode', 'Dim2 type', 'Dim2', 'Dim2ValueCode', 'Dim3 type',\n",
       "       'Dim3', 'Dim3ValueCode', 'DataSourceDimValueCode', 'DataSource',\n",
       "       'FactValueNumericPrefix', 'FactValueNumeric', 'FactValueUoM',\n",
       "       'FactValueNumericLowPrefix', 'FactValueNumericLow',\n",
       "       'FactValueNumericHighPrefix', 'FactValueNumericHigh', 'Value',\n",
       "       'FactValueTranslationID', 'FactComments', 'Language', 'DateModified'],\n",
       "      dtype='object')"
      ]
     },
     "execution_count": 4,
     "metadata": {},
     "output_type": "execute_result"
    }
   ],
   "source": [
    "tobacco_use.columns"
   ]
  },
  {
   "cell_type": "code",
   "execution_count": 5,
   "metadata": {},
   "outputs": [
    {
     "data": {
      "text/html": [
       "<div>\n",
       "<style scoped>\n",
       "    .dataframe tbody tr th:only-of-type {\n",
       "        vertical-align: middle;\n",
       "    }\n",
       "\n",
       "    .dataframe tbody tr th {\n",
       "        vertical-align: top;\n",
       "    }\n",
       "\n",
       "    .dataframe thead th {\n",
       "        text-align: right;\n",
       "    }\n",
       "</style>\n",
       "<table border=\"1\" class=\"dataframe\">\n",
       "  <thead>\n",
       "    <tr style=\"text-align: right;\">\n",
       "      <th></th>\n",
       "      <th>Period</th>\n",
       "      <th>ParentLocation</th>\n",
       "      <th>Location type</th>\n",
       "      <th>Location</th>\n",
       "      <th>Value</th>\n",
       "    </tr>\n",
       "  </thead>\n",
       "  <tbody>\n",
       "    <tr>\n",
       "      <th>0</th>\n",
       "      <td>2025</td>\n",
       "      <td>South-East Asia</td>\n",
       "      <td>Country</td>\n",
       "      <td>Democratic People's Republic of Korea</td>\n",
       "      <td>0.0</td>\n",
       "    </tr>\n",
       "    <tr>\n",
       "      <th>1</th>\n",
       "      <td>2025</td>\n",
       "      <td>Europe</td>\n",
       "      <td>Country</td>\n",
       "      <td>Azerbaijan</td>\n",
       "      <td>0.1</td>\n",
       "    </tr>\n",
       "  </tbody>\n",
       "</table>\n",
       "</div>"
      ],
      "text/plain": [
       "   Period   ParentLocation Location type  \\\n",
       "0    2025  South-East Asia       Country   \n",
       "1    2025           Europe       Country   \n",
       "\n",
       "                                Location  Value  \n",
       "0  Democratic People's Republic of Korea    0.0  \n",
       "1                             Azerbaijan    0.1  "
      ]
     },
     "execution_count": 5,
     "metadata": {},
     "output_type": "execute_result"
    }
   ],
   "source": [
    "tobacco_use.head(2)[['Period', 'ParentLocation', 'Location type', 'Location', 'Value']]"
   ]
  }
 ],
 "metadata": {
  "kernelspec": {
   "display_name": "Python 3",
   "language": "python",
   "name": "python3"
  },
  "language_info": {
   "codemirror_mode": {
    "name": "ipython",
    "version": 3
   },
   "file_extension": ".py",
   "mimetype": "text/x-python",
   "name": "python",
   "nbconvert_exporter": "python",
   "pygments_lexer": "ipython3",
   "version": "3.11.1"
  },
  "orig_nbformat": 4,
  "vscode": {
   "interpreter": {
    "hash": "a83cbc3615bb96fa8645e3aedbfd94d4b821672b2100abae7417f3d011c7470a"
   }
  }
 },
 "nbformat": 4,
 "nbformat_minor": 2
}
