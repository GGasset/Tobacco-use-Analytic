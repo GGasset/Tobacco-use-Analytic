{
 "cells": [
  {
   "cell_type": "code",
   "execution_count": 1,
   "metadata": {},
   "outputs": [
    {
     "name": "stderr",
     "output_type": "stream",
     "text": [
      "Matplotlib is building the font cache; this may take a moment.\n"
     ]
    }
   ],
   "source": [
    "import pandas as pd\n",
    "import numpy as np\n",
    "import matplotlib.pyplot as plt\n",
    "import seaborn as sns\n",
    "from celluloid import Camera"
   ]
  },
  {
   "cell_type": "code",
   "execution_count": 2,
   "metadata": {},
   "outputs": [
    {
     "data": {
      "text/html": [
       "<div>\n",
       "<style scoped>\n",
       "    .dataframe tbody tr th:only-of-type {\n",
       "        vertical-align: middle;\n",
       "    }\n",
       "\n",
       "    .dataframe tbody tr th {\n",
       "        vertical-align: top;\n",
       "    }\n",
       "\n",
       "    .dataframe thead th {\n",
       "        text-align: right;\n",
       "    }\n",
       "</style>\n",
       "<table border=\"1\" class=\"dataframe\">\n",
       "  <thead>\n",
       "    <tr style=\"text-align: right;\">\n",
       "      <th></th>\n",
       "      <th>IndicatorCode</th>\n",
       "      <th>Indicator</th>\n",
       "      <th>ValueType</th>\n",
       "      <th>ParentLocationCode</th>\n",
       "      <th>ParentLocation</th>\n",
       "      <th>Location type</th>\n",
       "      <th>SpatialDimValueCode</th>\n",
       "      <th>Location</th>\n",
       "      <th>Period type</th>\n",
       "      <th>Period</th>\n",
       "      <th>...</th>\n",
       "      <th>FactValueUoM</th>\n",
       "      <th>FactValueNumericLowPrefix</th>\n",
       "      <th>FactValueNumericLow</th>\n",
       "      <th>FactValueNumericHighPrefix</th>\n",
       "      <th>FactValueNumericHigh</th>\n",
       "      <th>Value</th>\n",
       "      <th>FactValueTranslationID</th>\n",
       "      <th>FactComments</th>\n",
       "      <th>Language</th>\n",
       "      <th>DateModified</th>\n",
       "    </tr>\n",
       "  </thead>\n",
       "  <tbody>\n",
       "    <tr>\n",
       "      <th>0</th>\n",
       "      <td>M_Est_tob_curr_std</td>\n",
       "      <td>Estimate of current tobacco use prevalence (%)...</td>\n",
       "      <td>numeric</td>\n",
       "      <td>SEAR</td>\n",
       "      <td>South-East Asia</td>\n",
       "      <td>Country</td>\n",
       "      <td>PRK</td>\n",
       "      <td>Democratic People's Republic of Korea</td>\n",
       "      <td>Year</td>\n",
       "      <td>2025</td>\n",
       "      <td>...</td>\n",
       "      <td>NaN</td>\n",
       "      <td>NaN</td>\n",
       "      <td>NaN</td>\n",
       "      <td>NaN</td>\n",
       "      <td>NaN</td>\n",
       "      <td>0.0</td>\n",
       "      <td>NaN</td>\n",
       "      <td>Projected from surveys completed prior to 2020...</td>\n",
       "      <td>EN</td>\n",
       "      <td>2022-01-16T23:00:00.000Z</td>\n",
       "    </tr>\n",
       "  </tbody>\n",
       "</table>\n",
       "<p>1 rows × 34 columns</p>\n",
       "</div>"
      ],
      "text/plain": [
       "        IndicatorCode                                          Indicator  \\\n",
       "0  M_Est_tob_curr_std  Estimate of current tobacco use prevalence (%)...   \n",
       "\n",
       "  ValueType ParentLocationCode   ParentLocation Location type  \\\n",
       "0   numeric               SEAR  South-East Asia       Country   \n",
       "\n",
       "  SpatialDimValueCode                               Location Period type  \\\n",
       "0                 PRK  Democratic People's Republic of Korea        Year   \n",
       "\n",
       "   Period  ...  FactValueUoM FactValueNumericLowPrefix FactValueNumericLow  \\\n",
       "0    2025  ...           NaN                       NaN                 NaN   \n",
       "\n",
       "  FactValueNumericHighPrefix  FactValueNumericHigh  Value  \\\n",
       "0                        NaN                   NaN    0.0   \n",
       "\n",
       "   FactValueTranslationID                                       FactComments  \\\n",
       "0                     NaN  Projected from surveys completed prior to 2020...   \n",
       "\n",
       "   Language              DateModified  \n",
       "0        EN  2022-01-16T23:00:00.000Z  \n",
       "\n",
       "[1 rows x 34 columns]"
      ]
     },
     "execution_count": 2,
     "metadata": {},
     "output_type": "execute_result"
    }
   ],
   "source": [
    "# Get data from WHO: https://www.who.int/data/gho/data/indicators/indicator-details/GHO/gho-tobacco-control-monitor-current-tobaccouse-tobaccosmoking-cigarrettesmoking-agestd-tobagestdcurr\n",
    "tobacco_use_full = pd.read_csv('./TobaccoUseData.csv')\n",
    "tobacco_use_full.head(1)"
   ]
  },
  {
   "cell_type": "code",
   "execution_count": 3,
   "metadata": {},
   "outputs": [
    {
     "data": {
      "text/html": [
       "<div>\n",
       "<style scoped>\n",
       "    .dataframe tbody tr th:only-of-type {\n",
       "        vertical-align: middle;\n",
       "    }\n",
       "\n",
       "    .dataframe tbody tr th {\n",
       "        vertical-align: top;\n",
       "    }\n",
       "\n",
       "    .dataframe thead th {\n",
       "        text-align: right;\n",
       "    }\n",
       "</style>\n",
       "<table border=\"1\" class=\"dataframe\">\n",
       "  <thead>\n",
       "    <tr style=\"text-align: right;\">\n",
       "      <th></th>\n",
       "      <th>Period</th>\n",
       "      <th>ParentLocation</th>\n",
       "      <th>Location type</th>\n",
       "      <th>Location</th>\n",
       "      <th>Value</th>\n",
       "    </tr>\n",
       "  </thead>\n",
       "  <tbody>\n",
       "    <tr>\n",
       "      <th>0</th>\n",
       "      <td>2025</td>\n",
       "      <td>South-East Asia</td>\n",
       "      <td>Country</td>\n",
       "      <td>Democratic People's Republic of Korea</td>\n",
       "      <td>0.0</td>\n",
       "    </tr>\n",
       "    <tr>\n",
       "      <th>1</th>\n",
       "      <td>2025</td>\n",
       "      <td>Europe</td>\n",
       "      <td>Country</td>\n",
       "      <td>Azerbaijan</td>\n",
       "      <td>0.1</td>\n",
       "    </tr>\n",
       "    <tr>\n",
       "      <th>2</th>\n",
       "      <td>2025</td>\n",
       "      <td>Africa</td>\n",
       "      <td>Country</td>\n",
       "      <td>Eritrea</td>\n",
       "      <td>0.2</td>\n",
       "    </tr>\n",
       "  </tbody>\n",
       "</table>\n",
       "</div>"
      ],
      "text/plain": [
       "   Period   ParentLocation Location type  \\\n",
       "0    2025  South-East Asia       Country   \n",
       "1    2025           Europe       Country   \n",
       "2    2025           Africa       Country   \n",
       "\n",
       "                                Location  Value  \n",
       "0  Democratic People's Republic of Korea    0.0  \n",
       "1                             Azerbaijan    0.1  \n",
       "2                                Eritrea    0.2  "
      ]
     },
     "execution_count": 3,
     "metadata": {},
     "output_type": "execute_result"
    }
   ],
   "source": [
    "tobacco_use = tobacco_use_full[['Period', 'ParentLocation', 'Location type', 'Location', 'Value']]\n",
    "tobacco_use.head(3)"
   ]
  },
  {
   "cell_type": "code",
   "execution_count": 4,
   "metadata": {},
   "outputs": [
    {
     "data": {
      "text/html": [
       "<div>\n",
       "<style scoped>\n",
       "    .dataframe tbody tr th:only-of-type {\n",
       "        vertical-align: middle;\n",
       "    }\n",
       "\n",
       "    .dataframe tbody tr th {\n",
       "        vertical-align: top;\n",
       "    }\n",
       "\n",
       "    .dataframe thead th {\n",
       "        text-align: right;\n",
       "    }\n",
       "</style>\n",
       "<table border=\"1\" class=\"dataframe\">\n",
       "  <thead>\n",
       "    <tr style=\"text-align: right;\">\n",
       "      <th></th>\n",
       "      <th>mean</th>\n",
       "      <th>std</th>\n",
       "    </tr>\n",
       "    <tr>\n",
       "      <th>ParentLocation</th>\n",
       "      <th></th>\n",
       "      <th></th>\n",
       "    </tr>\n",
       "  </thead>\n",
       "  <tbody>\n",
       "    <tr>\n",
       "      <th>Africa</th>\n",
       "      <td>10.104201</td>\n",
       "      <td>8.893918</td>\n",
       "    </tr>\n",
       "    <tr>\n",
       "      <th>Americas</th>\n",
       "      <td>12.115046</td>\n",
       "      <td>7.437227</td>\n",
       "    </tr>\n",
       "    <tr>\n",
       "      <th>Eastern Mediterranean</th>\n",
       "      <td>16.654710</td>\n",
       "      <td>13.498557</td>\n",
       "    </tr>\n",
       "    <tr>\n",
       "      <th>Europe</th>\n",
       "      <td>24.888322</td>\n",
       "      <td>10.690888</td>\n",
       "    </tr>\n",
       "    <tr>\n",
       "      <th>South-East Asia</th>\n",
       "      <td>22.603889</td>\n",
       "      <td>18.665660</td>\n",
       "    </tr>\n",
       "    <tr>\n",
       "      <th>Western Pacific</th>\n",
       "      <td>23.805333</td>\n",
       "      <td>14.342116</td>\n",
       "    </tr>\n",
       "  </tbody>\n",
       "</table>\n",
       "</div>"
      ],
      "text/plain": [
       "                            mean        std\n",
       "ParentLocation                             \n",
       "Africa                 10.104201   8.893918\n",
       "Americas               12.115046   7.437227\n",
       "Eastern Mediterranean  16.654710  13.498557\n",
       "Europe                 24.888322  10.690888\n",
       "South-East Asia        22.603889  18.665660\n",
       "Western Pacific        23.805333  14.342116"
      ]
     },
     "execution_count": 4,
     "metadata": {},
     "output_type": "execute_result"
    }
   ],
   "source": [
    "# 2020 is the last real data point as the last update on this data set is 2022/01/17 and it doesn't feature 2021\n",
    "tobacco_use_2020 = tobacco_use[tobacco_use['Period'] == 2020]\n",
    "tobacco_use_2020_per_continent_summary = tobacco_use_2020.groupby('ParentLocation')['Value'].agg([np.mean, np.std])\n",
    "tobacco_use_2020_per_continent_summary"
   ]
  },
  {
   "cell_type": "code",
   "execution_count": 5,
   "metadata": {},
   "outputs": [
    {
     "data": {
      "image/png": "[encoded data removed]",
      "text/plain": [
       "<Figure size 500x500 with 1 Axes>"
      ]
     },
     "metadata": {},
     "output_type": "display_data"
    }
   ],
   "source": [
    "sns.catplot(x='ParentLocation', y='Value', data=tobacco_use_2020, kind='box')\n",
    "plt.xticks(rotation=-45)\n",
    "plt.show()"
   ]
  },
  {
   "cell_type": "code",
   "execution_count": 6,
   "metadata": {},
   "outputs": [
    {
     "name": "stderr",
     "output_type": "stream",
     "text": [
      "MovieWriter ffmpeg unavailable; using Pillow instead.\n"
     ]
    },
    {
     "data": {
      "image/png": "[encoded data removed]",
      "text/plain": [
       "<Figure size 640x480 with 1 Axes>"
      ]
     },
     "metadata": {},
     "output_type": "display_data"
    }
   ],
   "source": [
    "# Year by year evolution of smoking for each continent\n",
    "tobacco_use_by_year = tobacco_use.groupby('Period')[['ParentLocation', 'Value']]\n",
    "\n",
    "fig = plt.figure()\n",
    "camera = Camera(figure=fig)\n",
    "\n",
    "for year, year_data in tobacco_use_by_year:\n",
    "    plt.xticks(rotation=-20)\n",
    "    plot = sns.boxplot(x='ParentLocation', y='Value', data=year_data, ax=plt.gca())\n",
    "    camera.snap()\n",
    "\n",
    "animation = camera.animate(blit=False)\n",
    "animation.save('animation.gif')\n"
   ]
  },
  {
   "attachments": {},
   "cell_type": "markdown",
   "metadata": {},
   "source": [
    "We can see that in the future the americas have a more drastic decrease tobacco consumption than any other continent following the general trend.\n",
    "It's also important to note that the western pacific have a drastic increase in tobacco consumption."
   ]
  },
  {
   "attachments": {},
   "cell_type": "markdown",
   "metadata": {},
   "source": [
    "Lets define two hypotheses to prove that tobacco consumption in the future (data points from 2023 to 2025) is lower:\n",
    "\n",
    "H0: Tobacco consumption is the same for 2020 and for 2025\n",
    "HA: Tobacco consumption is lower in 2025\n",
    "\n",
    "(This types of hypotheses is perfect for proportion-ttest tests)\n",
    "\n",
    "or more technically the hypotheses would be:\n",
    "\n",
    "H0: pico2020 - pico2025 = 0\n",
    "HA: pico2020 - pico2025 > 0\n",
    "\n",
    "Lets define an alpha value of .02 to get a 98% confidence"
   ]
  },
  {
   "cell_type": "code",
   "execution_count": 7,
   "metadata": {},
   "outputs": [],
   "source": [
    "from pingouin import ttest"
   ]
  },
  {
   "cell_type": "code",
   "execution_count": 8,
   "metadata": {},
   "outputs": [],
   "source": [
    "alpha = .02"
   ]
  },
  {
   "cell_type": "code",
   "execution_count": 31,
   "metadata": {},
   "outputs": [
    {
     "name": "stdout",
     "output_type": "stream",
     "text": [
      "p-value: 0.23856241809553302\n",
      "Is the true the hypotheses which states that the tobacco consumption in 2025 is lower than in 2020? False\n"
     ]
    }
   ],
   "source": [
    "tobacco_use_2025 = tobacco_use[tobacco_use['Period'] == 2025]\n",
    "\n",
    "ttest_result = ttest(x=tobacco_use_2025['Value'], y=tobacco_use_2020['Value'], alternative='less')\n",
    "p = float(ttest_result['p-val'].values[0])\n",
    "\n",
    "print(f'p-value: {p}')\n",
    "print('Is the true the hypotheses which states that the tobacco consumption in 2025 is lower than in 2020? ' + str(p <= alpha))"
   ]
  },
  {
   "cell_type": "code",
   "execution_count": 33,
   "metadata": {},
   "outputs": [
    {
     "name": "stdout",
     "output_type": "stream",
     "text": [
      "That states that in 2025 the results conclude that there will be less tobacco consumption in 2025 with a 76.1437581904467% of confidence\n"
     ]
    }
   ],
   "source": [
    "print(f'That states that in 2025 the results conclude that there will be less tobacco consumption in 2025 with a {(1 - p) * 100}% of confidence.')"
   ]
  },
  {
   "attachments": {},
   "cell_type": "markdown",
   "metadata": {},
   "source": [
    "By the animation that we saw before we can gather biases for the global trend, like continents that don't follow it. In this case the western pacific.\n",
    "\n",
    "I'll filter out the western pacific to see how that affects the result:"
   ]
  },
  {
   "cell_type": "code",
   "execution_count": 35,
   "metadata": {},
   "outputs": [],
   "source": [
    "tobacco_use_2025_no_western_pacific = tobacco_use_2025[tobacco_use_2025['ParentLocation'] != 'Western Pacific']\n",
    "tobacco_use_2020_no_western_pacific = tobacco_use_2020[tobacco_use_2020['ParentLocation'] != 'Western Pacific']"
   ]
  },
  {
   "attachments": {},
   "cell_type": "markdown",
   "metadata": {},
   "source": [
    "Now I'll do the same as before but with the western pacific filtered out to search for sub-trends"
   ]
  },
  {
   "cell_type": "code",
   "execution_count": 36,
   "metadata": {},
   "outputs": [
    {
     "name": "stdout",
     "output_type": "stream",
     "text": [
      "p-value: 0.25732575054345136\n",
      "Is the true the hypotheses which states that the tobacco consumption excluding the western pacific in 2025 is lower than in 2020? False\n"
     ]
    }
   ],
   "source": [
    "ttest_result = ttest(x=tobacco_use_2025_no_western_pacific['Value'], y=tobacco_use_2020_no_western_pacific['Value'], alternative='less')\n",
    "p = float(ttest_result['p-val'].values[0])\n",
    "\n",
    "print(f'p-value: {p}')\n",
    "print('Is the true the hypotheses which states that the tobacco consumption excluding the western pacific in 2025 is lower than in 2020? ' + str(p <= alpha))"
   ]
  },
  {
   "cell_type": "code",
   "execution_count": 37,
   "metadata": {},
   "outputs": [
    {
     "name": "stdout",
     "output_type": "stream",
     "text": [
      "That states that in 2025, excluding the western pacific, the results conclude that there will be less tobacco consumption in 2025 with a 74.26742494565485% of confidence.\n"
     ]
    }
   ],
   "source": [
    "print(f'That states that in 2025, excluding the western pacific, the results conclude that there will be less tobacco consumption in 2025 with a {(1 - p) * 100}% of confidence.')"
   ]
  },
  {
   "attachments": {},
   "cell_type": "markdown",
   "metadata": {},
   "source": [
    "It turns out that the western pacific is included in the trend which states: the amount of tobacco consumed / smoked will decrease as time passes "
   ]
  }
 ],
 "metadata": {
  "kernelspec": {
   "display_name": "Python 3",
   "language": "python",
   "name": "python3"
  },
  "language_info": {
   "codemirror_mode": {
    "name": "ipython",
    "version": 3
   },
   "file_extension": ".py",
   "mimetype": "text/x-python",
   "name": "python",
   "nbconvert_exporter": "python",
   "pygments_lexer": "ipython3",
   "version": "3.11.1 (tags/v3.11.1:a7a450f, Dec  6 2022, 19:58:39) [MSC v.1934 64 bit (AMD64)]"
  },
  "orig_nbformat": 4,
  "vscode": {
   "interpreter": {
    "hash": "a83cbc3615bb96fa8645e3aedbfd94d4b821672b2100abae7417f3d011c7470a"
   }
  }
 },
 "nbformat": 4,
 "nbformat_minor": 2
}
